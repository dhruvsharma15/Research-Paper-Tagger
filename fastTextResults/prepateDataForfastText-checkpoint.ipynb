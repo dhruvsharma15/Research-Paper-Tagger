{
 "cells": [
  {
   "cell_type": "markdown",
   "metadata": {},
   "source": [
    "# Data preprocessing for fastText Model"
   ]
  },
  {
   "cell_type": "code",
   "execution_count": 1,
   "metadata": {},
   "outputs": [],
   "source": [
    "import os\n",
    "import json\n",
    "import re\n",
    "path = './papers/papers'"
   ]
  },
  {
   "cell_type": "code",
   "execution_count": 10,
   "metadata": {},
   "outputs": [],
   "source": [
    "with open(\"./arxivdataset/arxivData.json\", \"r\") as read_file:\n",
    "    papers = json.load(read_file)\n",
    "\n",
    "invalidTags = []\n",
    "with open(\"invalidTags.txt\", 'r') as f:\n",
    "    for line in f:\n",
    "        invalidTags.append(line.rstrip())\n",
    "sampledPapers = []\n",
    "with open(\"sampledPapers.txt\", 'r') as f:\n",
    "    for line in f:\n",
    "        sampledPapers.append(line.rstrip())\n",
    "fileIndex = 0;        \n",
    "for paperIndex in sampledPapers:\n",
    "    paper = papers[int(paperIndex)]\n",
    "    fileIndex = int(paperIndex) + 1\n",
    "    tags = paper[\"tag\"].replace(\"'\",'\"')\n",
    "    tags = tags.replace('None', '\"None\"')\n",
    "    tags_json = json.loads(tags)\n",
    "    labels = \"\"\n",
    "    for it in tags_json:\n",
    "        if (it['term'] not in invalidTags and re.match(r\"\"\"[A-Z]\"\"\", it['term']) == None and re.match(r\"\"\"\\d+\"\"\", it['term']) == None):\n",
    "            labels = labels + \"__label__\" + it['term'] + \" \"\n",
    "    try:\n",
    "        with open(path + '/' + \"file\" + str(fileIndex) + \".txt\", \"r+\",encoding=\"utf8\") as f:\n",
    "            lines = f.readlines() # read old content\n",
    "            f.seek(0) # go back to the beginning of the file\n",
    "            f.write(labels) # write new content at the beginning\n",
    "            for line in lines: # write old content after new\n",
    "                f.write(line)\n",
    "            f.close()\n",
    "    except:\n",
    "        pass"
   ]
  },
  {
   "cell_type": "code",
   "execution_count": 18,
   "metadata": {},
   "outputs": [],
   "source": [
    "sampledFiles = []\n",
    "with open(\"sampledPapers.txt\", 'r') as f:\n",
    "    for line in f:\n",
    "        sampledFiles.append(\"file\" + str(int(line.rstrip()) + 1) + \".txt\")\n",
    "for filename in os.listdir(path):\n",
    "    if(filename not in sampledFiles):\n",
    "        os.remove(path + '/' + filename)"
   ]
  },
  {
   "cell_type": "code",
   "execution_count": 30,
   "metadata": {},
   "outputs": [],
   "source": [
    "with open('./papers/merged.txt', 'w', encoding=\"utf8\") as outfile:\n",
    "    for filename in os.listdir(path):\n",
    "        with open(path + '/' + filename, encoding=\"utf8\") as infile:\n",
    "            for line in infile:\n",
    "                outfile.write(line)"
   ]
  },
  {
   "cell_type": "markdown",
   "metadata": {},
   "source": [
    "## Preparing the fastText Word Representation"
   ]
  },
  {
   "cell_type": "code",
   "execution_count": 31,
   "metadata": {},
   "outputs": [],
   "source": [
    "path = './wordRep/papers'"
   ]
  },
  {
   "cell_type": "code",
   "execution_count": 32,
   "metadata": {},
   "outputs": [],
   "source": [
    "for filename in os.listdir(path):\n",
    "    if(filename not in sampledFiles):\n",
    "        os.remove(path + '/' + filename)"
   ]
  },
  {
   "cell_type": "code",
   "execution_count": 33,
   "metadata": {},
   "outputs": [],
   "source": [
    "with open('./wordRep/mergedText.txt', 'w', encoding=\"utf8\") as outfile:\n",
    "    for filename in os.listdir(path):\n",
    "        with open(path + '/' + filename, encoding=\"utf8\") as infile:\n",
    "            for line in infile:\n",
    "                outfile.write(line)"
   ]
  }
 ],
 "metadata": {
  "kernelspec": {
   "display_name": "Python 3",
   "language": "python",
   "name": "python3"
  },
  "language_info": {
   "codemirror_mode": {
    "name": "ipython",
    "version": 3
   },
   "file_extension": ".py",
   "mimetype": "text/x-python",
   "name": "python",
   "nbconvert_exporter": "python",
   "pygments_lexer": "ipython3",
   "version": "3.7.0"
  }
 },
 "nbformat": 4,
 "nbformat_minor": 2
}
