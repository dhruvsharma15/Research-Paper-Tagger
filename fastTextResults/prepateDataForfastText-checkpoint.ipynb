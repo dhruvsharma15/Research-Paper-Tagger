{
 "cells": [
  {
   "cell_type": "code",
   "execution_count": 125,
   "metadata": {},
   "outputs": [],
   "source": [
    "import os\n",
    "import json\n",
    "import re\n",
    "path = './papers/papers'"
   ]
  },
  {
   "cell_type": "code",
   "execution_count": null,
   "metadata": {},
   "outputs": [],
   "source": [
    "with open(\"./arxivdataset/arxivData.json\", \"r\") as read_file:\n",
    "    papers = json.load(read_file)\n",
    "\n",
    "invalidTags = []\n",
    "with open(\"invalidTags.txt\", 'r') as f:\n",
    "    for line in f:\n",
    "        invalidTags.append(line.rstrip())\n",
    "sampledPapers = []\n",
    "with open(\"sampledPapers.txt\", 'r') as f:\n",
    "    for line in f:\n",
    "        sampledPapers.append(line.rstrip())\n",
    "fileIndex = 0;        \n",
    "for paperIndex in sampledPapers:\n",
    "    paper = papers[int(paperIndex)]\n",
    "    fileIndex = fileIndex + 1\n",
    "    tags = paper[\"tag\"].replace(\"'\",'\"')\n",
    "    tags = tags.replace('None', '\"None\"')\n",
    "    tags_json = json.loads(tags)\n",
    "    labels = \"\"\n",
    "    count = 0\n",
    "    for it in tags_json:\n",
    "        if (it['term'] not in invalidTags and re.match(r\"\"\"[A-Z]\"\"\", it['term']) == None and re.match(r\"\"\"\\d+\"\"\", it['term']) == None):\n",
    "            labels = labels + \"__label__\" + it['term'] + \" \"\n",
    "    try:\n",
    "        with open(path + '/' + \"file\" + str(fileIndex) + \".txt\", \"r+\",encoding=\"utf8\") as f:\n",
    "            lines = f.readlines() # read old content\n",
    "            f.seek(0) # go back to the beginning of the file\n",
    "            f.write(labels) # write new content at the beginning\n",
    "            for line in lines: # write old content after new\n",
    "                f.write(line)\n",
    "            f.close()\n",
    "    except:\n",
    "        count = count + 1\n",
    "#for filename in os.listdir(path):\n",
    "print (count)\n"
   ]
  },
  {
   "cell_type": "code",
   "execution_count": null,
   "metadata": {},
   "outputs": [],
   "source": []
  }
 ],
 "metadata": {
  "kernelspec": {
   "display_name": "Python 3",
   "language": "python",
   "name": "python3"
  },
  "language_info": {
   "codemirror_mode": {
    "name": "ipython",
    "version": 3
   },
   "file_extension": ".py",
   "mimetype": "text/x-python",
   "name": "python",
   "nbconvert_exporter": "python",
   "pygments_lexer": "ipython3",
   "version": "3.7.0"
  }
 },
 "nbformat": 4,
 "nbformat_minor": 2
}
